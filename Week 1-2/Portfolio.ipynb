{
 "cells": [
  {
   "cell_type": "code",
   "execution_count": 1,
   "metadata": {},
   "outputs": [],
   "source": [
    "import edhec_risk_kit as eh\n",
    "import pandas as pd\n",
    "import numpy as np\n",
    "%reload_ext autoreload\n",
    "%autoreload 2"
   ]
  },
  {
   "cell_type": "code",
   "execution_count": null,
   "metadata": {},
   "outputs": [],
   "source": [
    "stock = eh.download_yahoo_stocks('SBER.ME', 'Close')"
   ]
  },
  {
   "cell_type": "code",
   "execution_count": null,
   "metadata": {},
   "outputs": [],
   "source": [
    "r = stock.pct_change()\n",
    "r = r.dropna()"
   ]
  },
  {
   "cell_type": "markdown",
   "metadata": {},
   "source": [
    "# Отклонение от нормльного распределения\n",
    "\n",
    "### Skewness\n",
    "\n",
    "Показатель смещения распределения.\n",
    "\n",
    "Относительной оценкой смещения может служить сравнение медианы(median) и среднего (mean) случайной величины. \n",
    "\n",
    "Медиана характеризует насколько часто появляется случайное значени, среднее характеризует ожидаемое значение. \n",
    "\n",
    "Если значение частоты появления случайной величины, другими словами, медианы ниже чем значение ожидаемой величины - среднего значения, то смещение происходит в левую сторону относительно среднего.\n"
   ]
  },
  {
   "cell_type": "code",
   "execution_count": null,
   "metadata": {},
   "outputs": [],
   "source": [
    "e = pd.Series([-3, -3, -2, -2, -1, 4, 8])\n",
    "e = e.to_frame(name='Series')\n",
    "e = pd.concat([e.mean(), e.median()], axis=1)\n",
    "e.columns = ['mean', 'median']\n",
    "e"
   ]
  },
  {
   "cell_type": "markdown",
   "metadata": {},
   "source": [
    "Чтобы количествено оценить степень смещения используется формула skewness\n",
    "$$S(R)=\\frac{E[(R-E(R))^3]}{\\sigma^3_R}$$"
   ]
  },
  {
   "cell_type": "code",
   "execution_count": null,
   "metadata": {},
   "outputs": [],
   "source": [
    "eh.skewness(r)"
   ]
  },
  {
   "cell_type": "code",
   "execution_count": null,
   "metadata": {},
   "outputs": [],
   "source": [
    "import scipy.stats\n",
    "scipy.stats.skew(r)"
   ]
  },
  {
   "cell_type": "markdown",
   "metadata": {},
   "source": [
    "Можно проверить корректность вычислений skewness относительно нормльного распределения"
   ]
  },
  {
   "cell_type": "code",
   "execution_count": null,
   "metadata": {},
   "outputs": [],
   "source": [
    "import numpy as np\n",
    "random_normal_r = np.random.normal(0, .15, size=(263,1))\n",
    "eh.skewness(random_normal_r)"
   ]
  },
  {
   "cell_type": "markdown",
   "metadata": {},
   "source": [
    "## Kurtosis\n",
    "\n",
    "Количественная мера характеризующая толщину \"хвоста\" в плотности распределения. Kurtosis в нормальном распределении равняется 3.\n",
    "\n",
    "$$S(R)=\\frac{E[(R-E(R))^4]}{\\sigma^4_R}$$"
   ]
  },
  {
   "cell_type": "markdown",
   "metadata": {},
   "source": [
    "Для нормального распределения"
   ]
  },
  {
   "cell_type": "code",
   "execution_count": null,
   "metadata": {},
   "outputs": [],
   "source": [
    "scipy.stats.kurtosis(random_normal_r)"
   ]
  },
  {
   "cell_type": "code",
   "execution_count": null,
   "metadata": {},
   "outputs": [],
   "source": [
    "eh.kurtosis(r)"
   ]
  },
  {
   "cell_type": "markdown",
   "metadata": {},
   "source": [
    "## Jarque-Bera Test\n",
    "\n",
    "Статистическая оценка является ли случайная величина нормльным распределением.\n",
    "\n",
    "$$JB=\\frac{n}{6}(S^2+\\frac{(K-3)^2}{4})$$"
   ]
  },
  {
   "cell_type": "code",
   "execution_count": null,
   "metadata": {},
   "outputs": [],
   "source": [
    "scipy.stats.jarque_bera(random_normal_r)"
   ]
  },
  {
   "cell_type": "code",
   "execution_count": null,
   "metadata": {},
   "outputs": [],
   "source": [
    "r.aggregate(eh.is_normal)"
   ]
  },
  {
   "cell_type": "markdown",
   "metadata": {},
   "source": [
    "# Semi-deviation\n",
    "\n",
    "Semi-deviation это величина отклонения (deviation), которая считается по выборке значений () которые ниже среднего значения или ниже нуля.\n",
    "$$\\mathtt{\\sigma_{semi}=\\sqrt{\\frac{1}{N}\\sum{R_t-\\overline{R}}}}$$\n",
    "$\\mathtt{N}$ - количество значений, которые ниже среднего значения или нуля."
   ]
  },
  {
   "cell_type": "code",
   "execution_count": null,
   "metadata": {},
   "outputs": [],
   "source": [
    "eh.semideviation(r) * 100"
   ]
  },
  {
   "cell_type": "markdown",
   "metadata": {},
   "source": [
    "# VaR - Value at Risk"
   ]
  },
  {
   "cell_type": "markdown",
   "metadata": {},
   "source": [
    "VaR - максималные велечина убытка за рассматриваемый промежуток времени при заданном уровне вероятности.\n",
    "\n",
    "Есть несколько вариантов расчета:\n",
    "- На основе исторических данных\n",
    "- Параметрический метод на основе кривой Гаусса\n",
    "- Парамтрический метод основанный не на кривой Гаусса\n",
    "- Метод Cornish-Fisher"
   ]
  },
  {
   "cell_type": "markdown",
   "metadata": {},
   "source": [
    "## Метод расчета на основе исторических данных\n",
    "\n",
    "Для расчета можно воспользоваться функцией из пакета Numpy - percentile. \n",
    "\n",
    "Можно, например, расчитать минимальную величину потерь в 5% самых негативных исходах или, другими словами, что в 95% случаях потери будут составлять не более этой величины."
   ]
  },
  {
   "cell_type": "code",
   "execution_count": null,
   "metadata": {},
   "outputs": [],
   "source": [
    "import numpy as np\n",
    "import pandas as pd\n",
    "\n",
    "np.percentile(r, 5)"
   ]
  },
  {
   "cell_type": "markdown",
   "metadata": {},
   "source": [
    "## Параметрический метод на основе кривой Гаусса\n",
    "\n",
    "Для нормального распределения величины можно посчитать на основе z-score стандартного отклонения, подробно про z-score на [wiki]\n",
    "(https://en.wikipedia.org/wiki/Standard_score)\n",
    "\n",
    "$$VaR_{\\alpha}=-(\\mu + z_{\\alpha}\\sigma)$$\n",
    "\n",
    "**Пример:** Портфель с .5% ежемесяной доходностью и .4% волатильностью, нужно рассчитать 95% VaR для портфеля на основе Гауссианы. "
   ]
  },
  {
   "cell_type": "code",
   "execution_count": null,
   "metadata": {},
   "outputs": [],
   "source": [
    "import seaborn as sns\n",
    "import matplotlib as plt\n",
    "from scipy import stats\n",
    "import matplotlib.pyplot as plt\n",
    "\n",
    "mu = .5\n",
    "sigma = 4\n",
    "x5 = -6.1\n",
    "\n",
    "extend = 3\n",
    "\n",
    "xx = np.arange(mu-extend*sigma, mu+extend*sigma, 0.1)\n",
    "yy = stats.norm.pdf(xx, loc=mu, scale=sigma)\n",
    "delta = 0.000000001\n",
    "xxx = xx[xx<=x5]\n",
    "yyy = yy[xx<=x5]\n",
    "\n",
    "plt.fill_between(xxx, yyy, alpha=0.1, color='blue')\n",
    "\n",
    "sns.lineplot(x=xx, y=yy).set_title('95% monthly Gaussian VaR=6.1 example')\n",
    "sns.lineplot(x=[mu, mu+delta], y=[0, yy.max()], markers='.')\n",
    "sns.lineplot(x=[x5, x5+delta], y=[0, stats.norm.pdf(x5, loc=mu, scale=sigma)])"
   ]
  },
  {
   "cell_type": "markdown",
   "metadata": {},
   "source": [
    "## Метод Cornish-Fisher\n",
    "\n",
    "Подход которые заключается в оценке VaR учитывая что распределение случайной величины не является нормальным.\n",
    "\n",
    "$$\\tilde{z_{\\alpha}}=z_{\\alpha}+\\frac{1}{6}(z^2_{\\alpha}-1)S+\\frac{1}{24}(z^3_{\\alpha}-3z_{\\alpha})(K-3)-\\frac{1}{36}(2z^3_{\\alpha}-5z_{\\alpha})S^2$$\n",
    "\n",
    "$$VaR_{mod}(1-\\alpha)=-(\\mu+\\tilde{z_{\\alpha}}\\sigma)$$\n",
    "\n",
    "* $\\tilde{z_{\\alpha}}$ - z-score отличного от Гаусса распределения\n",
    "* $z_{\\alpha}$ - z-score распределения Гаусса\n",
    "* $S$ - scewness\n",
    "* $(K-3)$ - excess kurtosis"
   ]
  },
  {
   "cell_type": "code",
   "execution_count": null,
   "metadata": {},
   "outputs": [],
   "source": [
    "r.columns = ['SBER']\n",
    "var_list = [eh.var_historic(r), eh.var_gaussian(r), eh.var_gaussian(r, modified=True)]\n",
    "comparision = pd.concat(var_list, axis=1)\n",
    "comparision.columns = ['Historic', 'Gaussian', 'Cornish-Fisher']\n",
    "comparision.plot.bar(title='SBER Indices: Var')"
   ]
  },
  {
   "cell_type": "markdown",
   "metadata": {},
   "source": [
    "# CVaR - Conditional VaR\n",
    "\n",
    "Величина оценивающая величину риска за пределами VaR, рассчитывается по формуле\n",
    "$$CVaR=-E(R|R\\leq-VaR)=\\frac{\\int\\limits_{-\\infty}^{VaR}xf_R(x)d(x)}{F_R(-VaR)}$$\n",
    "где $f_R$ - плотность вероятности, а $F_R$ - функция распределения.\n",
    "\n",
    "СVaR это среднее значение случайной величины, которая находится за VaR.\n",
    "\n",
    "**Пример** В последовательности ежемесячной доходности -4%, +5%, +2%, -7%, +1%, +0.5%, -2%, -1%, -2%, +5%, нужно найти 80% CVaR для портфеля."
   ]
  },
  {
   "cell_type": "code",
   "execution_count": null,
   "metadata": {},
   "outputs": [],
   "source": [
    "seq = [-4, 5, 2, -7, 1, 0.5, -2, -1, -2, 5]\n",
    "seq = pd.Series(seq)\n",
    "per_20 = np.percentile(seq, 20, interpolation='nearest')\n",
    "lower_per_20 = seq[seq<-2]\n",
    "cvar = lower_per_20.mean()\n",
    "cvar"
   ]
  },
  {
   "cell_type": "code",
   "execution_count": null,
   "metadata": {},
   "outputs": [],
   "source": [
    "eh.cvar_historic(r)"
   ]
  },
  {
   "cell_type": "markdown",
   "metadata": {
    "pycharm": {
     "name": "#%% md\n"
    }
   },
   "source": [
    "# Week 2. An Introduction to Portfolio Optimization\n",
    "\n",
    "Modern portfolio theory was born with the efficient frontier analysis of Markowitz (1952).\n",
    "\n",
    "Рассмотрим оптимизацию портфеля, который состоит из 2-х активов А и B c показателями:"
   ]
  },
  {
   "cell_type": "code",
   "execution_count": null,
   "outputs": [],
   "source": [
    "description = pd.DataFrame([[4,10],[6,14]], columns=['Return', 'Volatility'])\n",
    "description = description.rename({0: 'A', 1: 'B'}, axis='index')\n",
    "description.plot.scatter(x='Volatility', y='Return', c='DarkBlue', xlim=(6, 16), ylim=(2, 8))"
   ],
   "metadata": {
    "collapsed": false,
    "pycharm": {
     "name": "#%%\n"
    }
   }
  },
  {
   "cell_type": "markdown",
   "source": [
    "Если составить портфель из активов А и B, то доходность совокупная доходность\n",
    "рассчитывается как среднезвешенное активово в портфеле:\n",
    "\n",
    "$$R(\\omega_A,\\omega_B)=\\omega_AR_{a}+\\omega_BR_b$$\n",
    "\n",
    "Для расчет дисперсии используется формула:\n",
    "\n",
    "$$\\sigma^2(\\omega_A,\\omega_B)=\\sigma^2_A\\omega^2_A+\\sigma^2_B\\omega^2_B+2\\sigma_A\\sigma_B\\omega_A\\omega_B\\rho_{A,B}$$\n",
    "\n",
    "$\\rho_{A,B}$ - коэффициент корреляции между 2-я случайными величинами\n",
    "\n",
    "Два актива считаются идеально скоррелированными при $\\rho_{A,B}=1$"
   ],
   "metadata": {
    "collapsed": false,
    "pycharm": {
     "name": "#%% md\n"
    }
   }
  },
  {
   "cell_type": "code",
   "execution_count": null,
   "outputs": [],
   "source": [
    "ind = eh.get_ind_returns()\n",
    "ind.head()"
   ],
   "metadata": {
    "collapsed": false,
    "pycharm": {
     "name": "#%%\n"
    }
   }
  },
  {
   "cell_type": "code",
   "execution_count": null,
   "outputs": [],
   "source": [
    "eh.drawdown(ind['Food'])['Drawdown'].plot.line(figsize=(12,6))"
   ],
   "metadata": {
    "collapsed": false,
    "pycharm": {
     "name": "#%%\n"
    }
   }
  },
  {
   "cell_type": "code",
   "execution_count": null,
   "outputs": [],
   "source": [
    "eh.var_gaussian(ind, modified=True).sort_values().plot.bar(figsize=(12,6))"
   ],
   "metadata": {
    "collapsed": false,
    "pycharm": {
     "name": "#%%\n"
    }
   }
  },
  {
   "cell_type": "code",
   "execution_count": null,
   "outputs": [],
   "source": [
    "eh.sharp_ratio(ind[\"2000\":], 0.03, 12).sort_values().plot.bar(title=\"Industy Sharp Ratios\", figsize=(12,6), color=\"goldenrod\")"
   ],
   "metadata": {
    "collapsed": false,
    "pycharm": {
     "name": "#%%\n"
    }
   }
  },
  {
   "cell_type": "code",
   "execution_count": null,
   "outputs": [],
   "source": [
    "er = eh.annualize_rets(ind[\"1995\":\"2005\"], 12).sort_values().plot.bar(figsize=(12,6))"
   ],
   "metadata": {
    "collapsed": false,
    "pycharm": {
     "name": "#%%\n"
    }
   }
  },
  {
   "cell_type": "code",
   "execution_count": null,
   "outputs": [],
   "source": [
    "cov = ind[\"1996\":\"2005\"].cov()\n",
    "cov.head()"
   ],
   "metadata": {
    "collapsed": false,
    "pycharm": {
     "name": "#%%\n"
    }
   }
  },
  {
   "cell_type": "markdown",
   "source": [
    "## Markowitz Optimization and the Efficient Frontier\n",
    "\n",
    "Пограничный анализ является поиск оптимальной комбинации активов в портфеле с разными весами,\n",
    "при которых уровень риска будет минимальными при заданном уровне доходности.\n",
    "\n",
    "Общую доходность портфеля состоящего из нескольких активов можно записать при помощи обобщенной формулы:\n",
    "\n",
    "$$R_P=\\sum_{i=1}^{k}\\omega_{i}r_i$$\n",
    "\n",
    "В матричной записи эта формула выглядет как\n",
    "\n",
    "$$R=\\omega^Tr$$\n",
    "\n",
    "Обобщенная формуа для дисперсии портфеля:\n",
    "\n",
    "$$\\sigma^2_p=\\sum_{i=1}^{k}\\sum_{j=1}^{k}\\omega_i\\omega_j\\sigma_i\\sigma_j\\rho_{ij}$$\n",
    "\n",
    "$$Covariance(i,j)=\\sigma_i\\sigma_j\\rho_{ij}=\\sigma_{ij}$$\n",
    "\n",
    "В матричной форме формула для дисперсии выглядет как\n",
    "\n",
    "$$\\sigma^2_p=\\omega^T\\Sigma\\omega$$\n",
    "\n",
    "где $\\Sigma$ (не путать с суммой $\\sum$) матрица размерности $k\\times k$ в которой каждый элемент\n",
    "на позиции $i$ и $j$ есть коэффициент ковариации $\\sigma_{ij}$ между активами $i$ и $j$\n",
    "и равен $\\sigma_i\\sigma_j\\rho_{ij}$. Диагональный элемент матрицы равен дисперсии актива\n",
    "$\\sigma_{ii}=\\sigma_i\\sigma_i\\rho_{ii}=\\sigma^2_i$ (одинаковые активный идеально скоррелированы между\n",
    "собой, поэтому $\\rho_{ii}=1$)\n",
    "\n",
    "Решать задачу оптимизации - нахождения минимумального уровня риска при заданному уровне доходности,\n",
    "будем при помощи квадратичного программирования (Quadratic Optimization). Другими словами, для уровнения\n",
    "\n",
    "$$\\sigma^2_p=\\omega^T\\Sigma\\omega$$\n",
    "\n",
    "нужно найти минимум при следующих ограничениях:\n",
    "\n",
    "$$w\\geq0$$ - все веса должны быть больше или равны нулю,\n",
    "$$w^T1$$=1 - сумма всех весов должна равнять единице,\n",
    "$$w^TR=r_0$$ - доходность портфеля должна быть заданного уровня"
   ],
   "metadata": {
    "collapsed": false,
    "pycharm": {
     "name": "#%% md\n"
    }
   }
  },
  {
   "cell_type": "code",
   "execution_count": null,
   "outputs": [],
   "source": [
    "sample = ind[\"1996\":\"2000\"]\n",
    "er = eh.annualize_rets(sample, 12)\n",
    "cov = sample.cov()\n",
    "l = ['Food', 'Beer', 'Smoke', 'Coal']\n",
    "er[l]"
   ],
   "metadata": {
    "collapsed": false,
    "pycharm": {
     "name": "#%%\n"
    }
   }
  },
  {
   "cell_type": "code",
   "execution_count": null,
   "outputs": [],
   "source": [
    "cov.loc[l, l]"
   ],
   "metadata": {
    "collapsed": false,
    "pycharm": {
     "name": "#%%\n"
    }
   }
  },
  {
   "cell_type": "code",
   "execution_count": null,
   "outputs": [],
   "source": [
    "weights = np.repeat(1/4, 4)\n",
    "weights"
   ],
   "metadata": {
    "collapsed": false,
    "pycharm": {
     "name": "#%%\n"
    }
   }
  },
  {
   "cell_type": "code",
   "execution_count": null,
   "outputs": [],
   "source": [
    "eh.portfolio_return(weights, er[l])"
   ],
   "metadata": {
    "collapsed": false,
    "pycharm": {
     "name": "#%%\n"
    }
   }
  },
  {
   "cell_type": "code",
   "execution_count": null,
   "outputs": [],
   "source": [
    "eh.portfolio_vol(weights, cov.loc[l,l])"
   ],
   "metadata": {
    "collapsed": false,
    "pycharm": {
     "name": "#%%\n"
    }
   }
  },
  {
   "cell_type": "markdown",
   "source": [
    "### 2 Asset Frontier"
   ],
   "metadata": {
    "collapsed": false,
    "pycharm": {
     "name": "#%% md\n"
    }
   }
  },
  {
   "cell_type": "code",
   "execution_count": null,
   "outputs": [],
   "source": [
    "l = ['Games', 'Fin']\n",
    "n_points = 20\n",
    "weights = [np.array([w, 1-w]) for w in np.linspace(0, 1, n_points)]\n",
    "weights"
   ],
   "metadata": {
    "collapsed": false,
    "pycharm": {
     "name": "#%%\n"
    }
   }
  },
  {
   "cell_type": "code",
   "execution_count": null,
   "outputs": [],
   "source": [
    "rets = [eh.portfolio_return(w, er[l]) for w in weights]\n",
    "vols = [eh.portfolio_vol(w, cov.loc[l, l]) for w in weights]\n",
    "ef = pd.DataFrame({\"R\": rets, \"Vol\": vols})\n",
    "ef.plot.scatter(x=\"Vol\", y=\"R\")"
   ],
   "metadata": {
    "collapsed": false,
    "pycharm": {
     "name": "#%%\n"
    }
   }
  },
  {
   "cell_type": "code",
   "execution_count": null,
   "outputs": [],
   "source": [
    "l = ['Fin', 'Beer']\n",
    "eh.plot_ef2(30, er[l], cov.loc[l,l])"
   ],
   "metadata": {
    "collapsed": false,
    "pycharm": {
     "name": "#%%\n"
    }
   }
  },
  {
   "cell_type": "markdown",
   "source": [
    "### N-Asset Efficient Frontier"
   ],
   "metadata": {
    "collapsed": false,
    "pycharm": {
     "name": "#%% md\n"
    }
   }
  },
  {
   "cell_type": "code",
   "execution_count": 2,
   "outputs": [],
   "source": [
    "ind = eh.get_ind_returns()\n",
    "sample = ind[\"1996\": \"2000\"]\n",
    "er = eh.annualize_rets(sample, 12)\n",
    "cov = sample.cov()"
   ],
   "metadata": {
    "collapsed": false,
    "pycharm": {
     "name": "#%%\n"
    }
   }
  },
  {
   "cell_type": "code",
   "execution_count": 3,
   "outputs": [
    {
     "ename": "NameError",
     "evalue": "name 'l' is not defined",
     "output_type": "error",
     "traceback": [
      "\u001B[0;31m---------------------------------------------------------------------------\u001B[0m",
      "\u001B[0;31mNameError\u001B[0m                                 Traceback (most recent call last)",
      "\u001B[0;32m<ipython-input-3-1be5290d56fd>\u001B[0m in \u001B[0;36m<module>\u001B[0;34m\u001B[0m\n\u001B[0;32m----> 1\u001B[0;31m \u001B[0mw15\u001B[0m \u001B[0;34m=\u001B[0m \u001B[0meh\u001B[0m\u001B[0;34m.\u001B[0m\u001B[0mminimize_vol\u001B[0m\u001B[0;34m(\u001B[0m\u001B[0;36m0.20\u001B[0m\u001B[0;34m,\u001B[0m \u001B[0mer\u001B[0m\u001B[0;34m[\u001B[0m\u001B[0ml\u001B[0m\u001B[0;34m]\u001B[0m\u001B[0;34m,\u001B[0m \u001B[0mcov\u001B[0m\u001B[0;34m.\u001B[0m\u001B[0mloc\u001B[0m\u001B[0;34m[\u001B[0m\u001B[0ml\u001B[0m\u001B[0;34m,\u001B[0m \u001B[0ml\u001B[0m\u001B[0;34m]\u001B[0m\u001B[0;34m)\u001B[0m\u001B[0;34m\u001B[0m\u001B[0;34m\u001B[0m\u001B[0m\n\u001B[0m\u001B[1;32m      2\u001B[0m \u001B[0meh\u001B[0m\u001B[0;34m.\u001B[0m\u001B[0mportfolio_vol\u001B[0m\u001B[0;34m(\u001B[0m\u001B[0mw15\u001B[0m\u001B[0;34m,\u001B[0m \u001B[0mcov\u001B[0m\u001B[0;34m.\u001B[0m\u001B[0mloc\u001B[0m\u001B[0;34m[\u001B[0m\u001B[0ml\u001B[0m\u001B[0;34m,\u001B[0m\u001B[0ml\u001B[0m\u001B[0;34m]\u001B[0m\u001B[0;34m)\u001B[0m\u001B[0;34m\u001B[0m\u001B[0;34m\u001B[0m\u001B[0m\n\u001B[1;32m      3\u001B[0m \u001B[0;34m\u001B[0m\u001B[0m\n",
      "\u001B[0;31mNameError\u001B[0m: name 'l' is not defined"
     ]
    }
   ],
   "source": [
    "w15 = eh.minimize_vol(0.20, er[l], cov.loc[l, l])\n",
    "eh.portfolio_vol(w15, cov.loc[l,l])"
   ],
   "metadata": {
    "collapsed": false,
    "pycharm": {
     "name": "#%%\n"
    }
   }
  },
  {
   "cell_type": "code",
   "execution_count": null,
   "outputs": [],
   "source": [
    "eh.plot_ef2(25, er[l], cov.loc[l,l])"
   ],
   "metadata": {
    "collapsed": false,
    "pycharm": {
     "name": "#%%\n"
    }
   }
  },
  {
   "cell_type": "code",
   "execution_count": null,
   "outputs": [],
   "source": [
    "w15\n"
   ],
   "metadata": {
    "collapsed": false,
    "pycharm": {
     "name": "#%%\n"
    }
   }
  },
  {
   "cell_type": "code",
   "execution_count": null,
   "outputs": [],
   "source": [
    "l = ['Smoke', 'Fin', 'Games', 'Coal']\n",
    "eh.plot_ef(25, er, cov)"
   ],
   "metadata": {
    "collapsed": false,
    "pycharm": {
     "name": "#%%\n"
    }
   }
  },
  {
   "cell_type": "markdown",
   "source": [
    "## Fund Separation Theorem and The Capital Market Line\n",
    "\n",
    "Ситуация полностью меняетмя когда на рынке есть активы с нулевым риском и ненулевой доходностью.\n",
    "Оптимальный портфель, который можно составить из рисковых активов и безрисковых можно изобразить\n",
    "c помощью наклонной линии, тангенс угла которой равен коэффициенту Sharp Ratio\n",
    "\n",
    "$$SR_p=\\frac{\\mu_p-r_f}{\\sigma_p}=\\frac{\\sum_{i=1}^{N}\\omega_ir_i-r_f}{\\sqrt{\\sum_{i,j=1}^N\\omega_i\\omega_j\\sigma_i\\sigma_j\\rho_{ij}}}$$\n",
    "\n",
    "Наклонная линия при которой кривая Марковица касается в одной точке, в точке при которой $SR_p$ имеет\n",
    "максимальное значение, называется The Capital Market Line (далее CML).\n",
    "\n",
    "Максимальное значение $SR_p$ говорит что вложения в рисковый актив имеет лучшее\n",
    "отношение к велечине риска."
   ],
   "metadata": {
    "collapsed": false,
    "pycharm": {
     "name": "#%% md\n"
    }
   }
  },
  {
   "cell_type": "code",
   "execution_count": null,
   "outputs": [],
   "source": [
    "eh.plot_ef(20, er, cov, show_cml=True, riskfree_rate=0.1)"
   ],
   "metadata": {
    "collapsed": false,
    "pycharm": {
     "name": "#%%\n"
    }
   }
  },
  {
   "cell_type": "markdown",
   "source": [
    "## Lack of robustness of Markowiz analysis\n",
    "\n",
    "Недостаток анализа Марковица заключается в большом значении ошибки оценки ожидаемой доходности актива.\n",
    "\n",
    "Как пример, если оценитвать активы в S&P500, то у какого портфеля будет максимальным Shartp Ratio? У среднезвешенного\n",
    "портфеля (EW) или портфеля рассчитанного из оценки Max Sharp Ratio пограничной кривой Марковица?\n",
    "\n",
    "Оказвается, что поскольку в оценку EW потфеля не входит ошибка связанная с оценкой доходности портфеля (estimated error),\n",
    "EW портфель показывает более выскоий коэффициент Sharp'а по отношению к MSR.\n",
    "\n",
    "Чтобы избежать ошибки связнной с ER, обычно при составлении портфеля используют Global Minimum Variance (GMV) потфель. В\n",
    "оценку GMV не включается оценка доходности."
   ],
   "metadata": {
    "collapsed": false,
    "pycharm": {
     "name": "#%% md\n"
    }
   }
  },
  {
   "cell_type": "code",
   "execution_count": 19,
   "outputs": [
    {
     "data": {
      "text/plain": "<AxesSubplot:xlabel='Volatility'>"
     },
     "execution_count": 19,
     "metadata": {},
     "output_type": "execute_result"
    },
    {
     "data": {
      "text/plain": "<Figure size 432x288 with 1 Axes>",
      "image/png": "[encoded data removed]"
     },
     "metadata": {
      "needs_background": "light"
     },
     "output_type": "display_data"
    }
   ],
   "source": [
    "eh.plot_ef(20, er, cov, show_cml=True, riskfree_rate=0.1,show_eqw=True, show_gmv=True)"
   ],
   "metadata": {
    "collapsed": false,
    "pycharm": {
     "name": "#%%\n"
    }
   }
  },
  {
   "cell_type": "code",
   "execution_count": 3,
   "outputs": [
    {
     "ename": "FileNotFoundError",
     "evalue": "[Errno 2] No such file or directory: 'data/ind30_m_ew_rets.csv'",
     "output_type": "error",
     "traceback": [
      "\u001B[0;31m---------------------------------------------------------------------------\u001B[0m",
      "\u001B[0;31mFileNotFoundError\u001B[0m                         Traceback (most recent call last)",
      "\u001B[0;32m<ipython-input-3-05fe703db477>\u001B[0m in \u001B[0;36m<module>\u001B[0;34m\u001B[0m\n\u001B[0;32m----> 1\u001B[0;31m \u001B[0mpd\u001B[0m\u001B[0;34m.\u001B[0m\u001B[0mread_csv\u001B[0m\u001B[0;34m(\u001B[0m\u001B[0;34m'data/ind30_m_ew_rets.csv'\u001B[0m\u001B[0;34m)\u001B[0m\u001B[0;34m\u001B[0m\u001B[0;34m\u001B[0m\u001B[0m\n\u001B[0m\u001B[1;32m      2\u001B[0m \u001B[0;34m\u001B[0m\u001B[0m\n\u001B[1;32m      3\u001B[0m \u001B[0;34m\u001B[0m\u001B[0m\n",
      "\u001B[0;32m~/opt/anaconda3/lib/python3.8/site-packages/pandas/io/parsers.py\u001B[0m in \u001B[0;36mread_csv\u001B[0;34m(filepath_or_buffer, sep, delimiter, header, names, index_col, usecols, squeeze, prefix, mangle_dupe_cols, dtype, engine, converters, true_values, false_values, skipinitialspace, skiprows, skipfooter, nrows, na_values, keep_default_na, na_filter, verbose, skip_blank_lines, parse_dates, infer_datetime_format, keep_date_col, date_parser, dayfirst, cache_dates, iterator, chunksize, compression, thousands, decimal, lineterminator, quotechar, quoting, doublequote, escapechar, comment, encoding, dialect, error_bad_lines, warn_bad_lines, delim_whitespace, low_memory, memory_map, float_precision)\u001B[0m\n\u001B[1;32m    684\u001B[0m     )\n\u001B[1;32m    685\u001B[0m \u001B[0;34m\u001B[0m\u001B[0m\n\u001B[0;32m--> 686\u001B[0;31m     \u001B[0;32mreturn\u001B[0m \u001B[0m_read\u001B[0m\u001B[0;34m(\u001B[0m\u001B[0mfilepath_or_buffer\u001B[0m\u001B[0;34m,\u001B[0m \u001B[0mkwds\u001B[0m\u001B[0;34m)\u001B[0m\u001B[0;34m\u001B[0m\u001B[0;34m\u001B[0m\u001B[0m\n\u001B[0m\u001B[1;32m    687\u001B[0m \u001B[0;34m\u001B[0m\u001B[0m\n\u001B[1;32m    688\u001B[0m \u001B[0;34m\u001B[0m\u001B[0m\n",
      "\u001B[0;32m~/opt/anaconda3/lib/python3.8/site-packages/pandas/io/parsers.py\u001B[0m in \u001B[0;36m_read\u001B[0;34m(filepath_or_buffer, kwds)\u001B[0m\n\u001B[1;32m    450\u001B[0m \u001B[0;34m\u001B[0m\u001B[0m\n\u001B[1;32m    451\u001B[0m     \u001B[0;31m# Create the parser.\u001B[0m\u001B[0;34m\u001B[0m\u001B[0;34m\u001B[0m\u001B[0;34m\u001B[0m\u001B[0m\n\u001B[0;32m--> 452\u001B[0;31m     \u001B[0mparser\u001B[0m \u001B[0;34m=\u001B[0m \u001B[0mTextFileReader\u001B[0m\u001B[0;34m(\u001B[0m\u001B[0mfp_or_buf\u001B[0m\u001B[0;34m,\u001B[0m \u001B[0;34m**\u001B[0m\u001B[0mkwds\u001B[0m\u001B[0;34m)\u001B[0m\u001B[0;34m\u001B[0m\u001B[0;34m\u001B[0m\u001B[0m\n\u001B[0m\u001B[1;32m    453\u001B[0m \u001B[0;34m\u001B[0m\u001B[0m\n\u001B[1;32m    454\u001B[0m     \u001B[0;32mif\u001B[0m \u001B[0mchunksize\u001B[0m \u001B[0;32mor\u001B[0m \u001B[0miterator\u001B[0m\u001B[0;34m:\u001B[0m\u001B[0;34m\u001B[0m\u001B[0;34m\u001B[0m\u001B[0m\n",
      "\u001B[0;32m~/opt/anaconda3/lib/python3.8/site-packages/pandas/io/parsers.py\u001B[0m in \u001B[0;36m__init__\u001B[0;34m(self, f, engine, **kwds)\u001B[0m\n\u001B[1;32m    944\u001B[0m             \u001B[0mself\u001B[0m\u001B[0;34m.\u001B[0m\u001B[0moptions\u001B[0m\u001B[0;34m[\u001B[0m\u001B[0;34m\"has_index_names\"\u001B[0m\u001B[0;34m]\u001B[0m \u001B[0;34m=\u001B[0m \u001B[0mkwds\u001B[0m\u001B[0;34m[\u001B[0m\u001B[0;34m\"has_index_names\"\u001B[0m\u001B[0;34m]\u001B[0m\u001B[0;34m\u001B[0m\u001B[0;34m\u001B[0m\u001B[0m\n\u001B[1;32m    945\u001B[0m \u001B[0;34m\u001B[0m\u001B[0m\n\u001B[0;32m--> 946\u001B[0;31m         \u001B[0mself\u001B[0m\u001B[0;34m.\u001B[0m\u001B[0m_make_engine\u001B[0m\u001B[0;34m(\u001B[0m\u001B[0mself\u001B[0m\u001B[0;34m.\u001B[0m\u001B[0mengine\u001B[0m\u001B[0;34m)\u001B[0m\u001B[0;34m\u001B[0m\u001B[0;34m\u001B[0m\u001B[0m\n\u001B[0m\u001B[1;32m    947\u001B[0m \u001B[0;34m\u001B[0m\u001B[0m\n\u001B[1;32m    948\u001B[0m     \u001B[0;32mdef\u001B[0m \u001B[0mclose\u001B[0m\u001B[0;34m(\u001B[0m\u001B[0mself\u001B[0m\u001B[0;34m)\u001B[0m\u001B[0;34m:\u001B[0m\u001B[0;34m\u001B[0m\u001B[0;34m\u001B[0m\u001B[0m\n",
      "\u001B[0;32m~/opt/anaconda3/lib/python3.8/site-packages/pandas/io/parsers.py\u001B[0m in \u001B[0;36m_make_engine\u001B[0;34m(self, engine)\u001B[0m\n\u001B[1;32m   1176\u001B[0m     \u001B[0;32mdef\u001B[0m \u001B[0m_make_engine\u001B[0m\u001B[0;34m(\u001B[0m\u001B[0mself\u001B[0m\u001B[0;34m,\u001B[0m \u001B[0mengine\u001B[0m\u001B[0;34m=\u001B[0m\u001B[0;34m\"c\"\u001B[0m\u001B[0;34m)\u001B[0m\u001B[0;34m:\u001B[0m\u001B[0;34m\u001B[0m\u001B[0;34m\u001B[0m\u001B[0m\n\u001B[1;32m   1177\u001B[0m         \u001B[0;32mif\u001B[0m \u001B[0mengine\u001B[0m \u001B[0;34m==\u001B[0m \u001B[0;34m\"c\"\u001B[0m\u001B[0;34m:\u001B[0m\u001B[0;34m\u001B[0m\u001B[0;34m\u001B[0m\u001B[0m\n\u001B[0;32m-> 1178\u001B[0;31m             \u001B[0mself\u001B[0m\u001B[0;34m.\u001B[0m\u001B[0m_engine\u001B[0m \u001B[0;34m=\u001B[0m \u001B[0mCParserWrapper\u001B[0m\u001B[0;34m(\u001B[0m\u001B[0mself\u001B[0m\u001B[0;34m.\u001B[0m\u001B[0mf\u001B[0m\u001B[0;34m,\u001B[0m \u001B[0;34m**\u001B[0m\u001B[0mself\u001B[0m\u001B[0;34m.\u001B[0m\u001B[0moptions\u001B[0m\u001B[0;34m)\u001B[0m\u001B[0;34m\u001B[0m\u001B[0;34m\u001B[0m\u001B[0m\n\u001B[0m\u001B[1;32m   1179\u001B[0m         \u001B[0;32melse\u001B[0m\u001B[0;34m:\u001B[0m\u001B[0;34m\u001B[0m\u001B[0;34m\u001B[0m\u001B[0m\n\u001B[1;32m   1180\u001B[0m             \u001B[0;32mif\u001B[0m \u001B[0mengine\u001B[0m \u001B[0;34m==\u001B[0m \u001B[0;34m\"python\"\u001B[0m\u001B[0;34m:\u001B[0m\u001B[0;34m\u001B[0m\u001B[0;34m\u001B[0m\u001B[0m\n",
      "\u001B[0;32m~/opt/anaconda3/lib/python3.8/site-packages/pandas/io/parsers.py\u001B[0m in \u001B[0;36m__init__\u001B[0;34m(self, src, **kwds)\u001B[0m\n\u001B[1;32m   2006\u001B[0m         \u001B[0mkwds\u001B[0m\u001B[0;34m[\u001B[0m\u001B[0;34m\"usecols\"\u001B[0m\u001B[0;34m]\u001B[0m \u001B[0;34m=\u001B[0m \u001B[0mself\u001B[0m\u001B[0;34m.\u001B[0m\u001B[0musecols\u001B[0m\u001B[0;34m\u001B[0m\u001B[0;34m\u001B[0m\u001B[0m\n\u001B[1;32m   2007\u001B[0m \u001B[0;34m\u001B[0m\u001B[0m\n\u001B[0;32m-> 2008\u001B[0;31m         \u001B[0mself\u001B[0m\u001B[0;34m.\u001B[0m\u001B[0m_reader\u001B[0m \u001B[0;34m=\u001B[0m \u001B[0mparsers\u001B[0m\u001B[0;34m.\u001B[0m\u001B[0mTextReader\u001B[0m\u001B[0;34m(\u001B[0m\u001B[0msrc\u001B[0m\u001B[0;34m,\u001B[0m \u001B[0;34m**\u001B[0m\u001B[0mkwds\u001B[0m\u001B[0;34m)\u001B[0m\u001B[0;34m\u001B[0m\u001B[0;34m\u001B[0m\u001B[0m\n\u001B[0m\u001B[1;32m   2009\u001B[0m         \u001B[0mself\u001B[0m\u001B[0;34m.\u001B[0m\u001B[0munnamed_cols\u001B[0m \u001B[0;34m=\u001B[0m \u001B[0mself\u001B[0m\u001B[0;34m.\u001B[0m\u001B[0m_reader\u001B[0m\u001B[0;34m.\u001B[0m\u001B[0munnamed_cols\u001B[0m\u001B[0;34m\u001B[0m\u001B[0;34m\u001B[0m\u001B[0m\n\u001B[1;32m   2010\u001B[0m \u001B[0;34m\u001B[0m\u001B[0m\n",
      "\u001B[0;32mpandas/_libs/parsers.pyx\u001B[0m in \u001B[0;36mpandas._libs.parsers.TextReader.__cinit__\u001B[0;34m()\u001B[0m\n",
      "\u001B[0;32mpandas/_libs/parsers.pyx\u001B[0m in \u001B[0;36mpandas._libs.parsers.TextReader._setup_parser_source\u001B[0;34m()\u001B[0m\n",
      "\u001B[0;31mFileNotFoundError\u001B[0m: [Errno 2] No such file or directory: 'data/ind30_m_ew_rets.csv'"
     ]
    }
   ],
   "source": [],
   "metadata": {
    "collapsed": false,
    "pycharm": {
     "name": "#%%"
    }
   }
  }
 ],
 "metadata": {
  "kernelspec": {
   "display_name": "Python 3",
   "language": "python",
   "name": "python3"
  },
  "language_info": {
   "codemirror_mode": {
    "name": "ipython",
    "version": 3
   },
   "file_extension": ".py",
   "mimetype": "text/x-python",
   "name": "python",
   "nbconvert_exporter": "python",
   "pygments_lexer": "ipython3",
   "version": "3.8.5"
  }
 },
 "nbformat": 4,
 "nbformat_minor": 4
}