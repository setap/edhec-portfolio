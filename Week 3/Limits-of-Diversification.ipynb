{
 "cells": [
  {
   "cell_type": "markdown",
   "metadata": {
    "collapsed": true,
    "pycharm": {
     "name": "#%% md\n"
    }
   },
   "source": [
    "# Limits of Diversification\n",
    "\n",
    "Диверсификация потрфеля убирает риск который не обеспечен вознаграждением, максимизируя\n",
    "прибыль на единицу риска. Диверсификация учитывает только специфичный риск присущий отдельным\n",
    "активам.\n",
    "\n",
    "Диверсификация портфеля не работает когда есть систематический риск, т.е. риск который влияет\n",
    "на все активы сразу.\n",
    "\n",
    "Пример, падение всех акций на 15-20% на рынке в 2008-ом году.\n",
    "\n",
    "Для эффективного устранения систематического риска используется хеджирование (hedging (aka avoiding\n",
    "risk taking)) на примере liberty hedging potfolio или страхование (insurance)\n",
    "\n",
    "Страхование это динамическое хеджирование."
   ]
  },
  {
   "source": [
    "# Introduction to CCPI\n",
    "\n",
    "CPPI - Constant Proportion Portfolio Insurance"
   ],
   "cell_type": "markdown",
   "metadata": {}
  },
  {
   "cell_type": "code",
   "execution_count": null,
   "metadata": {},
   "outputs": [],
   "source": []
  }
 ],
 "metadata": {
  "kernelspec": {
   "display_name": "Python 3",
   "language": "python",
   "name": "python3"
  },
  "language_info": {
   "codemirror_mode": {
    "name": "ipython",
    "version": 2
   },
   "file_extension": ".py",
   "mimetype": "text/x-python",
   "name": "python",
   "nbconvert_exporter": "python",
   "pygments_lexer": "ipython2",
   "version": "2.7.6"
  }
 },
 "nbformat": 4,
 "nbformat_minor": 0
}